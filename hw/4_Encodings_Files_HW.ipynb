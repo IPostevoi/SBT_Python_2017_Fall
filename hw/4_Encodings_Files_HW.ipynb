{
 "cells": [
  {
   "cell_type": "markdown",
   "metadata": {},
   "source": [
    "### Большая часть задач требует операций с файлами, поэтому для воспроизводимости результатов работы вашего кода эти файлы нужно создавать\n",
    "\n",
    "### Можете их всех создавать в текущей папке, быстро и удобно это можно сделать таким способом:"
   ]
  },
  {
   "cell_type": "code",
   "execution_count": 1,
   "metadata": {
    "collapsed": false
   },
   "outputs": [],
   "source": [
    "text = \"\"\"123\n",
    "4567\n",
    " 8910\n",
    "\"\"\"\n",
    "with open('task_1.1_source', 'w') as f:\n",
    "    f.write(text)"
   ]
  },
  {
   "cell_type": "code",
   "execution_count": 2,
   "metadata": {
    "collapsed": false
   },
   "outputs": [
    {
     "name": "stdout",
     "output_type": "stream",
     "text": [
      "123\r\n",
      "4567\r\n",
      " 8910\r\n"
     ]
    }
   ],
   "source": [
    "!cat task_1.1_source"
   ]
  },
  {
   "cell_type": "markdown",
   "metadata": {},
   "source": [
    "# Базовый уровень"
   ]
  },
  {
   "cell_type": "markdown",
   "metadata": {},
   "source": [
    "## Задание 1.1\n",
    "\n",
    "Напишите функцию, копирующую файл\n",
    "\n",
    "source_path должен существовать, а отсутствующие промежуточные папки из target_path должны быть созданы\n",
    "\n",
    "Подсказка: можно прочитать исходный файл и записать в новый. \n",
    "\n",
    "Опциональное усложнение: попробуйте написать так, чтобы функция работала и с большими файлами (нужно, чтобы содежимое файла не считывалось полностью в память)"
   ]
  },
  {
   "cell_type": "code",
   "execution_count": 3,
   "metadata": {
    "collapsed": false
   },
   "outputs": [],
   "source": [
    "def copy_file(source_path, target_path):\n",
    "    with open(source_path, 'r') as f:\n",
    "        with open(target_path, 'w') as ff:\n",
    "            for line in f:\n",
    "                ff.write(line)\n",
    "    return"
   ]
  },
  {
   "cell_type": "code",
   "execution_count": 4,
   "metadata": {
    "collapsed": false
   },
   "outputs": [],
   "source": [
    "copy_file(\"task_1.1_source\", \"task_1.1_target\")"
   ]
  },
  {
   "cell_type": "markdown",
   "metadata": {},
   "source": [
    "## Задание 1.2\n",
    "\n",
    "##### В файле source_path находится англо-латинский словарь, то есть список слов на английском языке и их переводы на латинский язык (переводов может быть несколько). Необходимо создать из него латино-английский словарь по пути target_path. Например, из словаря\n",
    "\n",
    "\n",
    "\n",
    "apple - malum, pomum, popula\n",
    "\n",
    "fruit - baca, bacca, popum\n",
    "\n",
    "punishment - malum, multa\n",
    "\n",
    "\n",
    "\n",
    "##### нужно сделать словарь.\n",
    "\n",
    "baca - fruit\n",
    "\n",
    "bacca - fruit\n",
    "\n",
    "malum - apple, punishment\n",
    "\n",
    "multa - punishment\n",
    "\n",
    "pomum - apple\n",
    "\n",
    "popula - apple\n",
    "\n",
    "popum - fruit\n",
    "\n",
    "##### Не забудьте, что слова нужно расположить в алфавитном порядке.\n",
    "##### Будет полезна функция strip у строки для удаления пробелов\n"
   ]
  },
  {
   "cell_type": "code",
   "execution_count": 5,
   "metadata": {
    "collapsed": false
   },
   "outputs": [],
   "source": [
    "text = \"\"\"apple - malum, pomum, popula\n",
    "fruit - baca, bacca, popum\n",
    "punishment - malum, multa\"\"\"\n",
    "\n",
    "with open(\"task_1.2_source\", 'w') as f:\n",
    "    f.write(text)"
   ]
  },
  {
   "cell_type": "code",
   "execution_count": 6,
   "metadata": {
    "collapsed": true
   },
   "outputs": [],
   "source": [
    "def eng_lat_2_lat_eng(source_path, target_path):\n",
    "    with open(source_path, 'r') as f:\n",
    "        with open(target_path, 'w') as ff:\n",
    "            for line in f:\n",
    "                words = line.strip(\" \").split('-')\n",
    "                for latin in words[1].strip('\\n').split(','):\n",
    "                    ff.write(latin + ' - ' + words[0] + '\\n')\n",
    "                    \n",
    "#     with open(target_path, 'r+') as \n",
    "    !sort $target_path -o $target_path\n",
    "    return"
   ]
  },
  {
   "cell_type": "code",
   "execution_count": 7,
   "metadata": {
    "collapsed": false
   },
   "outputs": [],
   "source": [
    "def eng_lat_2_lat_eng(source_path, target_path):\n",
    "    with open(source_path, 'r') as f:\n",
    "        lines = f.readlines()\n",
    "        lat_eng = dict()\n",
    "        \n",
    "        for line in lines:\n",
    "            line = line.strip('\\n').split(' - ')\n",
    "            \n",
    "            eng = line[0]\n",
    "            latins = line[1].split(',')\n",
    "            \n",
    "            for latin in latins:\n",
    "                latin = latin.strip(' ')\n",
    "                if latin in lat_eng.keys():\n",
    "                    lat_eng[latin] += [eng]\n",
    "                else:\n",
    "                     lat_eng[latin] = [eng] \n",
    "    \n",
    "    with open(target_path, 'w') as ff:\n",
    "        for k in sorted(lat_eng.keys()):\n",
    "            words = \"\"\n",
    "            for word in lat_eng[k]:\n",
    "                words += word + \", \"\n",
    "            \n",
    "            words = words[:-2]\n",
    "            ff.write(k + ' - ' + words + '\\n')\n",
    "        \n",
    "    return    "
   ]
  },
  {
   "cell_type": "code",
   "execution_count": 8,
   "metadata": {
    "collapsed": false
   },
   "outputs": [
    {
     "name": "stdout",
     "output_type": "stream",
     "text": [
      "baca - fruit\r\n",
      "bacca - fruit\r\n",
      "malum - apple, punishment\r\n",
      "multa - punishment\r\n",
      "pomum - apple\r\n",
      "popula - apple\r\n",
      "popum - fruit\r\n"
     ]
    }
   ],
   "source": [
    "eng_lat_2_lat_eng(\"task_1.2_source\", \"task_1.2_target\")\n",
    "!cat task_1.2_target"
   ]
  },
  {
   "cell_type": "markdown",
   "metadata": {},
   "source": [
    "## Задание 1.3\n",
    "\n",
    "Напишите функцию, вычисляющую длину русского слова, независимо от его кодировки\n",
    "\n",
    "Если параметр encoding задан, то нужно декодировать текст при помощи этой кодировки. А если он не задан, то кодировку надо определить самостоятельно.\n",
    "\n",
    "##### Если кодировка не задана, то точное решение здесь написать не получится. Но можно воспользоваться функцией my_decoder из лекции"
   ]
  },
  {
   "cell_type": "code",
   "execution_count": 9,
   "metadata": {
    "collapsed": false
   },
   "outputs": [
    {
     "name": "stdout",
     "output_type": "stream",
     "text": [
      "5\n"
     ]
    }
   ],
   "source": [
    "type(u'текст')\n",
    "print len(u'текст')"
   ]
  },
  {
   "cell_type": "code",
   "execution_count": 10,
   "metadata": {
    "collapsed": true
   },
   "outputs": [],
   "source": [
    "import chardet"
   ]
  },
  {
   "cell_type": "code",
   "execution_count": 11,
   "metadata": {
    "collapsed": false
   },
   "outputs": [],
   "source": [
    "def my_len(word, encoding=None):\n",
    "    if type(word) is unicode:\n",
    "        return len(word)\n",
    "    elif not encoding == None:\n",
    "        return len(word.decode(encoding))\n",
    "    else:\n",
    "        return len(unicode(word, encoding=chardet.detect(word)['encoding']))"
   ]
  },
  {
   "cell_type": "code",
   "execution_count": 12,
   "metadata": {
    "collapsed": false
   },
   "outputs": [
    {
     "data": {
      "text/plain": [
       "True"
      ]
     },
     "execution_count": 12,
     "metadata": {},
     "output_type": "execute_result"
    }
   ],
   "source": [
    "my_len('текст') == 5"
   ]
  },
  {
   "cell_type": "code",
   "execution_count": 13,
   "metadata": {
    "collapsed": false
   },
   "outputs": [
    {
     "data": {
      "text/plain": [
       "True"
      ]
     },
     "execution_count": 13,
     "metadata": {},
     "output_type": "execute_result"
    }
   ],
   "source": [
    "my_len(u'текст') == 5"
   ]
  },
  {
   "cell_type": "code",
   "execution_count": 14,
   "metadata": {
    "collapsed": false
   },
   "outputs": [
    {
     "data": {
      "text/plain": [
       "True"
      ]
     },
     "execution_count": 14,
     "metadata": {},
     "output_type": "execute_result"
    }
   ],
   "source": [
    "my_len(u'ааааа'.encode('utf_16'), encoding='utf_16') == 5"
   ]
  },
  {
   "cell_type": "code",
   "execution_count": 15,
   "metadata": {
    "collapsed": false
   },
   "outputs": [
    {
     "data": {
      "text/plain": [
       "True"
      ]
     },
     "execution_count": 15,
     "metadata": {},
     "output_type": "execute_result"
    }
   ],
   "source": [
    "my_len(u'текст'.encode('windows-1251')) == 5"
   ]
  },
  {
   "cell_type": "markdown",
   "metadata": {},
   "source": [
    "# Продвинутый уровень"
   ]
  },
  {
   "cell_type": "markdown",
   "metadata": {},
   "source": [
    "## Задание 2.1\n",
    "\n",
    "Напишите функцию, которая выписывает список файлов в данной директории и сортирует их в соответствии с их размером. Функция должна получать путь к директории в качестве аргумента и печатать на экран имена всех файлов в ней и их размеры, причем первыми должны идти файлы с наибольшими размерами, а в случае одинакового размер файлы сортируются по алфавиту.\n",
    "\n",
    "##### Указание. Изучите функции listdir и stat из модуля os и функции isfile и join из модуля os.path.\n"
   ]
  },
  {
   "cell_type": "code",
   "execution_count": 16,
   "metadata": {
    "collapsed": true
   },
   "outputs": [],
   "source": [
    "import os"
   ]
  },
  {
   "cell_type": "code",
   "execution_count": 17,
   "metadata": {
    "collapsed": false
   },
   "outputs": [],
   "source": [
    "def get_dir_content_info(dir_path):\n",
    "    listdir = os.listdir(dir_path)\n",
    "    dictionary = dict()\n",
    "    sorted_dictionary = dict()\n",
    "    \n",
    "    for item in listdir:\n",
    "        dictionary[item] = os.stat(os.path.join(dir_path, item)).st_size\n",
    "        \n",
    "    #Сортировка устойчива, порядок одинаковых элементов не изменится    \n",
    "    for k in sorted(dictionary.keys()):\n",
    "        sorted_dictionary[k] = dictionary[k]\n",
    "        \n",
    "    sorted_dictionary = sorted(sorted_dictionary.items(), key=lambda x: -x[1])\n",
    "    \n",
    "    for k, v in sorted_dictionary:\n",
    "        print k + ': ' + str(v) + ' bytes'\n",
    "    return"
   ]
  },
  {
   "cell_type": "code",
   "execution_count": 18,
   "metadata": {
    "collapsed": false
   },
   "outputs": [
    {
     "name": "stdout",
     "output_type": "stream",
     "text": [
      "3_Syntax_part2_hw.ipynb: 22415 bytes\n",
      "4_Encodings_Files_HW.ipynb: 19615 bytes\n",
      "2_Syntax_part1_hw.ipynb: 7067 bytes\n",
      ".ipynb_checkpoints: 4096 bytes\n",
      "task_1.2_target: 115 bytes\n",
      "task_1.2_source: 81 bytes\n",
      "task_2.2_target: 67 bytes\n",
      "task_2.2_source: 49 bytes\n",
      "task_1.1_source: 15 bytes\n",
      "task_1.1_target: 15 bytes\n",
      ".gitignore: 1 bytes\n",
      "aa: 0 bytes\n",
      "ab: 0 bytes\n",
      "ba: 0 bytes\n"
     ]
    }
   ],
   "source": [
    "get_dir_content_info(os.getcwd())"
   ]
  },
  {
   "cell_type": "markdown",
   "metadata": {},
   "source": [
    "## Задание 2.2\n",
    "\n",
    "Аналогично 1.2, но только теперь англо-русский в русско-английский словарь. Дополнительно теперь будет ещё параметр encoding для кодировки файлов. Если он None, то нужно самостоятельно определить кодировку файла.\n",
    "\n",
    "##### Решение будет почти дублировать 1.2, но сначала текст нужно привести в unicode"
   ]
  },
  {
   "cell_type": "code",
   "execution_count": 19,
   "metadata": {
    "collapsed": false
   },
   "outputs": [],
   "source": [
    "text = u\"\"\"apple - яблоко\n",
    "target - цель\n",
    "aim - цель, целиться\"\"\"\n",
    "\n",
    "with open(\"task_2.2_source\", 'w') as f:\n",
    "    f.write(text.encode('windows-1251'))"
   ]
  },
  {
   "cell_type": "code",
   "execution_count": 20,
   "metadata": {
    "collapsed": false
   },
   "outputs": [
    {
     "name": "stdout",
     "output_type": "stream",
     "text": [
      "apple - яблоко\n",
      "target - цель\n",
      "aim - цель, целиться\n"
     ]
    }
   ],
   "source": [
    "with open(\"task_2.2_source\", 'r') as f:\n",
    "    print f.read().decode('windows-1251')"
   ]
  },
  {
   "cell_type": "code",
   "execution_count": 21,
   "metadata": {
    "collapsed": false
   },
   "outputs": [],
   "source": [
    "def eng_rus_2_rus_eng(source_path, target_path, encoding=None):\n",
    "    with open(source_path, 'r') as f:\n",
    "        line = f.read()    \n",
    "            \n",
    "        if not encoding == None:\n",
    "            line = line.decode(encoding)\n",
    "        else:\n",
    "            line = unicode(line, encoding=chardet.detect(line)['encoding'])\n",
    "            \n",
    "        lines = line.split('\\n')\n",
    "        rus_eng = dict()\n",
    "        \n",
    "        for line in lines:\n",
    "            line = line.strip('\\n').split(' - ')\n",
    "            \n",
    "            eng = line[0]\n",
    "            russians = line[1].split(',')\n",
    "            \n",
    "            for rus in russians:\n",
    "                rus = rus.strip(' ')\n",
    "                if rus in rus_eng.keys():\n",
    "                    rus_eng[rus] += [eng]\n",
    "                else:\n",
    "                    rus_eng[rus] = [eng]\n",
    "                    \n",
    "    with open(target_path, 'w') as ff:\n",
    "         for k in sorted(rus_eng.keys()):\n",
    "            words = u\"\"\n",
    "            for word in rus_eng[k]:\n",
    "                words += word + u\", \"\n",
    "    \n",
    "            words = words[:-2]\n",
    "            ff.write((k + u' - ' + words + '\\n').encode('utf-8'))\n",
    "    return"
   ]
  },
  {
   "cell_type": "code",
   "execution_count": 22,
   "metadata": {
    "collapsed": false
   },
   "outputs": [],
   "source": [
    "eng_rus_2_rus_eng(\"task_2.2_source\", \"task_2.2_target\", 'windows-1251')"
   ]
  },
  {
   "cell_type": "code",
   "execution_count": 23,
   "metadata": {
    "collapsed": false
   },
   "outputs": [
    {
     "name": "stdout",
     "output_type": "stream",
     "text": [
      "целиться - aim\r\n",
      "цель - target, aim\r\n",
      "яблоко - apple\r\n"
     ]
    }
   ],
   "source": [
    "!cat task_2.2_target"
   ]
  },
  {
   "cell_type": "markdown",
   "metadata": {},
   "source": [
    "# Сложный уровень"
   ]
  },
  {
   "cell_type": "markdown",
   "metadata": {},
   "source": [
    "## Задание 3.1\n",
    "\n",
    "Существует исследование, говорящее о том, что в словах текста можно произвольно переставить буквы (не затрагивая первую и последнюю), и от этого читабельность текста практически не ухудшится. Напишите функцию для проверки этого факта. Ваша функция должна получать на вход какой-нибудь текст (может быть и на русском языке) и переставлять буквы в его словах случайным образом. \n",
    "\n",
    "Если seed None, то буквы переставляются не случайным образом, а сортируются по алфавиту (латинские символы считаем меньше кириллических). Если seed не None, то нужно использовать это seed при инициализации рандома. Сравните результаты.\n",
    "\n",
    "##### будем считать, что текст это последовательность кириллических и латинских символов разделённая пробелом\n",
    "##### вам потребуется модуль random и функции random.seed и random.shuffle\n",
    "##### проверьте результат работы на не юникодовских строчках и объясните результат"
   ]
  },
  {
   "cell_type": "code",
   "execution_count": 81,
   "metadata": {
    "collapsed": true
   },
   "outputs": [],
   "source": [
    "import re\n",
    "import chardet\n",
    "import random"
   ]
  },
  {
   "cell_type": "code",
   "execution_count": 53,
   "metadata": {
    "collapsed": true
   },
   "outputs": [],
   "source": [
    "text = \"\"\"Существует исследование, говорящее о том, что в словах текста можно произвольно переставить буквы\n",
    "(не затрагивая первую и последнюю), иот этого читабельность текста практически не ухудшится.\n",
    "Напишите функцию для проверки этого факта. Ваша функция должна получать на вход какой-нибудь текст\n",
    "(может быть и на русском языке) и переставлять буквы в его словах случайным образом. \"\"\""
   ]
  },
  {
   "cell_type": "code",
   "execution_count": 58,
   "metadata": {
    "collapsed": false
   },
   "outputs": [
    {
     "name": "stdout",
     "output_type": "stream",
     "text": [
      "Существует\n"
     ]
    }
   ],
   "source": [
    "print text.split(' ')[0]"
   ]
  },
  {
   "cell_type": "code",
   "execution_count": 181,
   "metadata": {
    "collapsed": false
   },
   "outputs": [],
   "source": [
    "def text_shuffle(text, seed=None):\n",
    "    \n",
    "    random.seed(seed)\n",
    "    \n",
    "    text = unicode(text, encoding=chardet.detect(text)['encoding'])\n",
    "    parsed_text = re.split('[\\s]', text)\n",
    "    shuffled_text = []\n",
    "    \n",
    "    for word in parsed_text:\n",
    "        if len(word) > 2:\n",
    "            pos = len(word)-1\n",
    "            if word[pos] == u',':\n",
    "                pos -= 1\n",
    "            \n",
    "            shuffled = list(word)[1:pos]   \n",
    "            random.shuffle(shuffled) \n",
    "            shuffled_word = ''.join(shuffled)\n",
    "            \n",
    "            new_word = word[0] + shuffled_word + word[pos:]\n",
    "            shuffled_text.append(new_word)\n",
    "        else:\n",
    "            shuffled_text.append(word)\n",
    "        \n",
    "    new_text = ' '.join(shuffled_text)\n",
    "    \n",
    "    print repr(new_text).decode(\"unicode-escape\")\n",
    "    \n",
    "    return"
   ]
  },
  {
   "cell_type": "code",
   "execution_count": 182,
   "metadata": {
    "collapsed": false
   },
   "outputs": [
    {
     "name": "stdout",
     "output_type": "stream",
     "text": [
      "u'Сещсууветт ивноиалсдсее, гровещояе о том, что в сваолх тткеса множо пьзвоионрло птаересвтиь бувкы (не звраиаагтя прувею и пнслдюоюе), иот эгото члотбаеьнстиь тсткеа пчкрксиаети не усияудшхт. Нпишатие фукциню для пвркеори эгото фткаа. Ваша фиуцкня длжона пчуатлоь на вохд койдкауи-нбь тксет (жемот быть и на ркссоум якзые) и птляаеестврь бвукы в его савлох слунйчыам оаозбмр. '\n"
     ]
    }
   ],
   "source": [
    "text_shuffle(text)"
   ]
  },
  {
   "cell_type": "markdown",
   "metadata": {},
   "source": [
    "## Задание 3.2\n",
    "\n",
    "Напишите функцию, которая читает два файла построчно (то есть не загружая всё содержимое в память), и записывает в выходной файл результат лексиграфического сравнение срочки из первого файла и из второго (First, Second и Equal по аналогии c предыдущим ДЗ)."
   ]
  },
  {
   "cell_type": "code",
   "execution_count": 204,
   "metadata": {
    "collapsed": false
   },
   "outputs": [],
   "source": [
    "def process(fst_source_path, snd_source_path, target_path):\n",
    "    with open(fst_source_path, 'r') as f:\n",
    "        with open(snd_source_path, 'r') as ff:\n",
    "            with open(target_path, 'w') as r:\n",
    "                g = lambda x: 'Equal' if x[0] == x[1] else 'First' if x[0] < x[1] else 'Second'\n",
    "                for line_f, line_ff in zip(f, ff):\n",
    "                    r.write(g([line_f, line_ff]) + '\\n')  \n",
    "                \n",
    "    return"
   ]
  },
  {
   "cell_type": "code",
   "execution_count": 205,
   "metadata": {
    "collapsed": false
   },
   "outputs": [],
   "source": [
    "process(\"task_3.2_source1\", \"task_3.2_source2\", \"task_3.2_target\")"
   ]
  }
 ],
 "metadata": {
  "anaconda-cloud": {},
  "kernelspec": {
   "display_name": "Python 2",
   "language": "python",
   "name": "python2"
  },
  "language_info": {
   "codemirror_mode": {
    "name": "ipython",
    "version": 2
   },
   "file_extension": ".py",
   "mimetype": "text/x-python",
   "name": "python",
   "nbconvert_exporter": "python",
   "pygments_lexer": "ipython2",
   "version": "2.7.13"
  }
 },
 "nbformat": 4,
 "nbformat_minor": 2
}
