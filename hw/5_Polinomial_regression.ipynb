{
 "cells": [
  {
   "cell_type": "code",
   "execution_count": 86,
   "metadata": {
    "collapsed": false
   },
   "outputs": [],
   "source": [
    "%matplotlib inline\n",
    "import numpy as np\n",
    "import matplotlib.pyplot as plt\n",
    "from scipy.optimize import minimize"
   ]
  },
  {
   "cell_type": "markdown",
   "metadata": {},
   "source": [
    "## Задание по numpy\n",
    "1. Напишите свой аналог np.linspace с использованием цикла и с использованием list comprehension. Сравните все три варианта по производительности\n",
    "1. Сравните по производительности основные операции с массивами (array) numpy и с list"
   ]
  },
  {
   "cell_type": "code",
   "execution_count": 31,
   "metadata": {
    "collapsed": false
   },
   "outputs": [],
   "source": [
    "def my_linspace_list(l, h, s):\n",
    "    return [x for x in np.arange(l, h, (h - l) / float(s))]\n",
    "\n",
    "def my_linspace_loop(l, h, s):\n",
    "    ans = np.zeros(s)\n",
    "    for i in np.arange(s):\n",
    "        ans[i] = l + ((h - l) / s) * i\n",
    "    return ans"
   ]
  },
  {
   "cell_type": "code",
   "execution_count": 32,
   "metadata": {
    "collapsed": false
   },
   "outputs": [
    {
     "name": "stdout",
     "output_type": "stream",
     "text": [
      "The slowest run took 8.25 times longer than the fastest. This could mean that an intermediate result is being cached.\n",
      "10000 loops, best of 3: 53 µs per loop\n",
      "1000 loops, best of 3: 678 µs per loop\n",
      "100 loops, best of 3: 5.28 ms per loop\n"
     ]
    }
   ],
   "source": [
    "%timeit np.linspace(-1, 1, 10000)\n",
    "%timeit my_linspace_list(-1, 1, 10000)\n",
    "%timeit my_linspace_loop(-1, 1, 10000)"
   ]
  },
  {
   "cell_type": "markdown",
   "metadata": {},
   "source": [
    "## Задание по scipy\n",
    "Попробуйте поменять метод оптимизации в примере решения оптимизационной задачи, и подобрать метод с наименьшим количеством вычислений функции. Начальное приближение оставьте тем же."
   ]
  },
  {
   "cell_type": "code",
   "execution_count": 33,
   "metadata": {
    "collapsed": false
   },
   "outputs": [
    {
     "name": "stdout",
     "output_type": "stream",
     "text": [
      "3.0\n"
     ]
    }
   ],
   "source": [
    "def f(x):\n",
    "    return (x[0] - 3.2) ** 2 + (x[1] - 0.1) ** 2 + 3\n",
    "\n",
    "print f([3.2, 0.1])\n",
    "\n"
   ]
  },
  {
   "cell_type": "code",
   "execution_count": 50,
   "metadata": {
    "collapsed": false
   },
   "outputs": [
    {
     "name": "stdout",
     "output_type": "stream",
     "text": [
      "SLSQP 2\n"
     ]
    }
   ],
   "source": [
    "results = dict()\n",
    "iter1 = minimize(f, [5, 5]).nit\n",
    "results['default'] = iter1\n",
    "iter2 = minimize(f, [5, 5], method='Nelder-Mead').nit\n",
    "results['Nelder-Mead'] = iter2\n",
    "iter3 = minimize(f, [5, 5], method='BFGS').nit\n",
    "results['BFGS'] = iter3\n",
    "iter4 = minimize(f, [5, 5], method='SLSQP').nit\n",
    "results['SLSQP'] = iter4\n",
    "iter5 = minimize(f, [5, 5], method='CG').nit\n",
    "results['CG'] = iter5\n",
    "iter6 = minimize(f, [5, 5], method='Powell').nit\n",
    "results['Powell'] = iter6\n",
    "iter7 = minimize(f, [5, 5], method='TNC').nit\n",
    "results['TNC'] = iter7\n",
    "\n",
    "ans = min(results, key=results.get)\n",
    "\n",
    "print ans, results[ans]"
   ]
  },
  {
   "cell_type": "markdown",
   "metadata": {},
   "source": [
    "## Задание по Matplotlib\n",
    "1. Добавьте подписи к осям и легенду к примеру выше (см. документацию)\n",
    "1. Постройте график с 5 разными элементарными функциями и сделайте легенду к графику в TeXe\n",
    "1. Сохраните рисунок в файл строчкой кода на Python"
   ]
  },
  {
   "cell_type": "code",
   "execution_count": 54,
   "metadata": {
    "collapsed": true
   },
   "outputs": [],
   "source": [
    "def f1(x):\n",
    "    return x\n",
    "\n",
    "def f2(x):\n",
    "    return x**2 - x\n",
    "\n",
    "def f3(x):\n",
    "    return np.sin(x**2) / x\n",
    "\n",
    "def f4(x):\n",
    "    return - x**3\n",
    "\n",
    "def f5(x):\n",
    "    return x + x**2 / 2 + x**3 / 4"
   ]
  },
  {
   "cell_type": "code",
   "execution_count": 121,
   "metadata": {
    "collapsed": false,
    "scrolled": false
   },
   "outputs": [
    {
     "data": {
      "image/png": "[encoded data removed]",
      "text/plain": [
       "<matplotlib.figure.Figure at 0x7f0d2c6df350>"
      ]
     },
     "metadata": {},
     "output_type": "display_data"
    }
   ],
   "source": [
    "x = np.arange(-10, 10, 0.1)\n",
    "plt.plot(x, f1(x), c='red', label='$x$')\n",
    "plt.plot(x, f2(x), c='blue', label='$x^2 - x$')\n",
    "plt.plot(x, f3(x), c='green', label='$ \\\\frac{sin(x)}{x} $')\n",
    "plt.plot(x, f4(x), c='black', label='$-x^3$')\n",
    "plt.plot(x, f5(x), c='brown', label='$x + \\\\frac{x^2}{2} + \\\\frac{x^3}{4}$')\n",
    "plt.title('Plot')\n",
    "plt.legend(bbox_to_anchor=(1, 1))\n",
    "plt.savefig('hw#5.png')\n",
    "plt.show()"
   ]
  },
  {
   "cell_type": "markdown",
   "metadata": {},
   "source": [
    "## Задание на Numpy+Matplotlib\n",
    "\n",
    "1. Сгенерируйте массив из 500 точек на плоскости с координатами $(x, y)$, такими, что $x$ меняется от -1 до 1, а $y = 2x - 1 + \\varepsilon$, где $\\varepsilon \\sim \\mathcal{N}(0, 0.1)$\n",
    "2. Сгенерируйте массив из 100 точек на плоскости с координатами $(x, y)$, такими, что $x$ меняется от -1 до 1, а $y = 1 + \\varepsilon$, где $\\varepsilon \\sim \\mathcal{N}(0, 0.1)$\n",
    "3. Изобразите первый и второй массив точек на плоскости (используя два разных цвета), а также график функии $f(x) = 2x - 1$ (используя какой-нибудь третий цвет)"
   ]
  },
  {
   "cell_type": "code",
   "execution_count": 123,
   "metadata": {
    "collapsed": false
   },
   "outputs": [],
   "source": [
    "x1 = np.linspace(-1, 1, 500)\n",
    "\n",
    "def y1(x):\n",
    "    return 2 * x - 1 + np.random.normal(0, 0.1)\n",
    "\n",
    "x2 = np.linspace(-1, 1, 100)\n",
    "y2 = [1 + np.random.normal(0, 0.1) for i in range(100)]\n",
    "\n",
    "def f(x):\n",
    "    return 2 * x - 1\n",
    "\n",
    "x = np.linspace(-1, 1, 1000)"
   ]
  },
  {
   "cell_type": "code",
   "execution_count": 127,
   "metadata": {
    "collapsed": false,
    "scrolled": false
   },
   "outputs": [
    {
     "data": {
      "image/png": "[encoded data removed]",
      "text/plain": [
       "<matplotlib.figure.Figure at 0x7f0d2c8599d0>"
      ]
     },
     "metadata": {},
     "output_type": "display_data"
    }
   ],
   "source": [
    "plt.plot(x1, y1(x1), 'o', c='indigo')\n",
    "plt.plot(x2, y2, 'o', c='teal')\n",
    "plt.plot(x, f(x), c='red')\n",
    "plt.show()"
   ]
  },
  {
   "cell_type": "code",
   "execution_count": 124,
   "metadata": {
    "collapsed": false
   },
   "outputs": [],
   "source": [
    "x_all = np.hstack([x1, x2])\n",
    "y_all = np.hstack([y1(x1), y2])"
   ]
  },
  {
   "cell_type": "code",
   "execution_count": 96,
   "metadata": {
    "collapsed": true
   },
   "outputs": [],
   "source": [
    "def poly(x, coeff):\n",
    "    k, b = coeff\n",
    "    return k * x + b"
   ]
  },
  {
   "cell_type": "code",
   "execution_count": 114,
   "metadata": {
    "collapsed": true
   },
   "outputs": [],
   "source": [
    "def loss_function_square(coeff):\n",
    "    loss = sum((poly(x_all, coeff) - y_all) ** 2)\n",
    "    return loss\n",
    "\n",
    "def loss_function_abs(coeff):\n",
    "    loss = sum(np.abs(poly(x_all, coeff) - y_all))\n",
    "    return loss"
   ]
  },
  {
   "cell_type": "code",
   "execution_count": 115,
   "metadata": {
    "collapsed": false
   },
   "outputs": [],
   "source": [
    "result_square = minimize(loss_function_square, [0.1, 0.1])\n",
    "result_abs = minimize(loss_function_abs, [0.1, 0.1])"
   ]
  },
  {
   "cell_type": "code",
   "execution_count": 132,
   "metadata": {
    "collapsed": false
   },
   "outputs": [
    {
     "data": {
      "image/png": "[encoded data removed]",
      "text/plain": [
       "<matplotlib.figure.Figure at 0x7f0d2c74d410>"
      ]
     },
     "metadata": {},
     "output_type": "display_data"
    }
   ],
   "source": [
    "plt.plot(x1, y1(x1), 'o', c='indigo')\n",
    "plt.plot(x2, y2, 'o', c='teal')\n",
    "plt.plot(x, f(x), c='red')\n",
    "plt.plot(x, poly(x, result_square.x), c='green')\n",
    "plt.plot(x, poly(x, result_abs.x), c='lime')\n",
    "plt.show()"
   ]
  }
 ],
 "metadata": {
  "kernelspec": {
   "display_name": "Python 2",
   "language": "python",
   "name": "python2"
  },
  "language_info": {
   "codemirror_mode": {
    "name": "ipython",
    "version": 2
   },
   "file_extension": ".py",
   "mimetype": "text/x-python",
   "name": "python",
   "nbconvert_exporter": "python",
   "pygments_lexer": "ipython2",
   "version": "2.7.13"
  }
 },
 "nbformat": 4,
 "nbformat_minor": 2
}
